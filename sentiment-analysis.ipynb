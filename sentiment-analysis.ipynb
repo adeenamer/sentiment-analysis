{
  "cells": [
    {
      "cell_type": "markdown",
      "metadata": {},
      "source": [
        "# Sentiment Analysis"
      ]
    },
    {
      "cell_type": "code",
      "execution_count": 1,
      "metadata": {
        "colab": {
          "base_uri": "https://localhost:8080/"
        },
        "id": "ah0sKJu8MIvL",
        "outputId": "376d96c6-8283-4c6d-8de1-b7258df87bf0"
      },
      "outputs": [
        {
          "name": "stdout",
          "output_type": "stream",
          "text": [
            "Downloading...\n",
            "From: https://drive.google.com/uc?id=1Pjr69ChG81L2KEQLPs-dA6eW4RUCkBsD\n",
            "To: /content/PA4_dataset.zip\n",
            "\r  0% 0.00/322k [00:00<?, ?B/s]\r100% 322k/322k [00:00<00:00, 46.5MB/s]\n"
          ]
        }
      ],
      "source": [
        "!gdown --id 1Pjr69ChG81L2KEQLPs-dA6eW4RUCkBsD"
      ]
    },
    {
      "cell_type": "code",
      "execution_count": 2,
      "metadata": {
        "colab": {
          "base_uri": "https://localhost:8080/"
        },
        "id": "CzIeAWzcMUko",
        "outputId": "656e9071-e5d6-4de8-d2bc-48a77f504625"
      },
      "outputs": [
        {
          "name": "stdout",
          "output_type": "stream",
          "text": [
            "Archive:  PA4_dataset.zip\n",
            "  inflating: PA4_dataset/stop_words.txt  \n",
            "  inflating: PA4_dataset/test.csv    \n",
            "  inflating: PA4_dataset/train.csv   \n"
          ]
        }
      ],
      "source": [
        "!unzip PA4_dataset.zip"
      ]
    },
    {
      "cell_type": "code",
      "execution_count": 1,
      "metadata": {
        "id": "COVVTTdjMt2i"
      },
      "outputs": [],
      "source": [
        "import sklearn\n",
        "import matplotlib.pyplot as plt\n",
        "%matplotlib inline\n",
        "import pandas as pd\n",
        "import numpy as np\n",
        "import math\n",
        "import os\n",
        "from matplotlib import pyplot as plt\n",
        "from sklearn.linear_model import LogisticRegression\n",
        "from sklearn.metrics import confusion_matrix\n",
        "from sklearn import metrics\n",
        "from sklearn.model_selection import train_test_split\n",
        "from sklearn.linear_model import LogisticRegression\n",
        "from sklearn.naive_bayes import MultinomialNB\n",
        "from sklearn.model_selection import GridSearchCV\n",
        "from sklearn import preprocessing\n",
        "import re\n",
        "from sklearn.feature_extraction.text import TfidfVectorizer\n",
        "import numpy as np\n"
      ]
    },
    {
      "cell_type": "markdown",
      "metadata": {},
      "source": [
        "## Data Cleaning and Feature Engineering"
      ]
    },
    {
      "cell_type": "code",
      "execution_count": 2,
      "metadata": {
        "id": "br6VMF0kM1fJ"
      },
      "outputs": [],
      "source": [
        "\n",
        "df_training = pd.read_csv('PA4_dataset/train.csv')\n",
        "x_training = df_training['Tweet']\n",
        "y_training = df_training['Sentiment']\n",
        "\n",
        "\n",
        "\n",
        "with open('PA4_dataset/stop_words.txt', 'r') as f:\n",
        "  stop_words = f.read().splitlines()  #this reads the stop words from the text file\n",
        "\n",
        "for i, row in x_training.iteritems(): #to lower case all words\n",
        "  x_training.at[i] = row.lower()\n",
        "  \n",
        "for i, row in x_training.iteritems():\n",
        "  x_training.at[i] = re.sub('@\\w+', '', row) #to remove @ and whatever comes after/usernames\n",
        "\n",
        "for i, row in x_training.iteritems():\n",
        "  x_training.at[i] = re.sub('(?:\\s)http[^, ]*', '', row) #to remove hyperlinks\n",
        "\n",
        "for i, row in x_training.iteritems():\n",
        "    x_training.at[i] = re.sub(\"[^\\w\\d'\\s]\",' ', row)  #to remove unnecessary punctuations\n",
        "\n",
        "\n",
        "words = '|'.join(r\"\\b{}\\b\".format(x) for x in stop_words)\n",
        "x_training = x_training.str.replace(words, '') #to remove stop words\n",
        "\n",
        "\n",
        "\n",
        "\n"
      ]
    },
    {
      "cell_type": "code",
      "execution_count": 3,
      "metadata": {
        "id": "UZ52egHmfJjQ"
      },
      "outputs": [],
      "source": [
        "\n",
        "vocabulary = []\n",
        "for i, row in x_training.iteritems():\n",
        "  words = x_training[i].split()\n",
        "  for x in words:\n",
        "    if x not in vocabulary:\n",
        "     vocabulary.append(x)\n",
        "\n",
        "bow = np.zeros((x_training.size, len(vocabulary))) #bag of words. stores the frequency of each word in each tweet\n",
        "\n",
        "for i, row in x_training.iteritems():\n",
        "  words = x_training[i].split()\n",
        "  for x in words:\n",
        "    bow[i][vocabulary.index(x)] += 1\n"
      ]
    },
    {
      "cell_type": "markdown",
      "metadata": {},
      "source": [
        "## Logistic Regression"
      ]
    },
    {
      "cell_type": "code",
      "execution_count": 44,
      "metadata": {
        "colab": {
          "base_uri": "https://localhost:8080/",
          "height": 1000
        },
        "id": "8rwczE8h6dbJ",
        "outputId": "c0d56135-db0c-4da2-adcb-b4a5423b6959"
      },
      "outputs": [
        {
          "name": "stderr",
          "output_type": "stream",
          "text": [
            "/usr/local/lib/python3.7/dist-packages/ipykernel_launcher.py:5: RuntimeWarning: overflow encountered in exp\n",
            "  \"\"\"\n",
            "/usr/local/lib/python3.7/dist-packages/ipykernel_launcher.py:11: RuntimeWarning: invalid value encountered in matmul\n",
            "  # This is added back by InteractiveShellApp.init_path()\n"
          ]
        },
        {
          "name": "stdout",
          "output_type": "stream",
          "text": [
            "[-4.85599537e+03 -9.89526732e+00 -9.59812230e+01 ... -9.89549251e-01\n",
            " -9.89514940e-01  5.92026740e-04]\n",
            "[-4.51919406e+03 -3.95452081e+00 -9.30080338e+01 ...  5.52384909e-04\n",
            " -9.89480363e-01 -9.89463892e-01]\n",
            "[ 3.57959566e+03  3.95294144e+00  8.90317743e+01 ... -6.83085605e-04\n",
            "  9.89304054e-01 -8.63610641e-04]\n"
          ]
        },
        {
          "data": {
            "image/png": "[encoded data removed]",
            "text/plain": [
              "<Figure size 432x288 with 1 Axes>"
            ]
          },
          "metadata": {
            "needs_background": "light",
            "tags": []
          },
          "output_type": "display_data"
        },
        {
          "data": {
            "image/png": "[encoded data removed]",
            "text/plain": [
              "<Figure size 432x288 with 1 Axes>"
            ]
          },
          "metadata": {
            "needs_background": "light",
            "tags": []
          },
          "output_type": "display_data"
        },
        {
          "data": {
            "image/png": "[encoded data removed]",
            "text/plain": [
              "<Figure size 432x288 with 1 Axes>"
            ]
          },
          "metadata": {
            "needs_background": "light",
            "tags": []
          },
          "output_type": "display_data"
        },
        {
          "data": {
            "image/png": "[encoded data removed]",
            "text/plain": [
              "<Figure size 432x288 with 1 Axes>"
            ]
          },
          "metadata": {
            "needs_background": "light",
            "tags": []
          },
          "output_type": "display_data"
        },
        {
          "data": {
            "image/png": "[encoded data removed]",
            "text/plain": [
              "<Figure size 432x288 with 1 Axes>"
            ]
          },
          "metadata": {
            "needs_background": "light",
            "tags": []
          },
          "output_type": "display_data"
        }
      ],
      "source": [
        "#Task 3\n",
        "\n",
        "def Sigmoid(x, theta): #used to calculate probability using the sigmoid formula\n",
        "  r = np.matmul(x, np.transpose(theta))\n",
        "  result = 1/(1+ np.exp(r))\n",
        "  return result\n",
        "\n",
        "\n",
        "def Loss(x,y,lamda, theta): #used to calculate loss using the loss formula\n",
        "  s = Sigmoid(x, theta)\n",
        "  loss = - ( np.matmul(y, np.log(s, where = s>0))  + np.matmul( (1-y) , np.log(1 - s , where = s<1) ) )\n",
        "  return loss\n",
        "\n",
        "\n",
        "def BGD(alpha, lamda, x,y): #batch gradient descent\n",
        "  theta = np.zeros(x.shape[1])\n",
        "  ce_loss = np.array([])\n",
        "\n",
        "  for epochs in range(1000):\n",
        "    update_theta = alpha * ( (np.matmul(np.transpose(x), Sigmoid(x,theta) - y)) + (2*lamda*theta))\n",
        "    theta = theta - update_theta\n",
        "    theta = theta.astype('float64')  #to ensure theta is of type float and not of type object\n",
        "    ce_loss = np.append(ce_loss, Loss(x,y,lamda, theta))\n",
        "\n",
        "  return theta, ce_loss\n",
        "\n",
        "\n",
        "\n",
        "bow_logistic = bow #create a bag of words for logistic regression case so we can add bias term\n",
        "insert_ones = np.ones(bow_logistic.shape[0])\n",
        "bow_logistic = np.insert(bow_logistic, 0, insert_ones, axis=1)\n",
        "\n",
        "alpha = [0.005, 0.005, 0.003, 0.001, 0.001]\n",
        "lamda = [0.0001, 0.001, 0.001, 0.001, 0.01]\n",
        "\n",
        "\n",
        "theta_positive_list = []\n",
        "theta_negative_list = []\n",
        "theta_neutral_list = []\n",
        "loss_positive_list = []\n",
        "loss_negative_list = []\n",
        "loss_neutral_list = []\n",
        "\n",
        "y = np.array([])\n",
        "for i, row in y_training.iteritems(): #positives are assigned 1 and the rest are assigned 0 label\n",
        "  if (row == \"positive\"):\n",
        "    y = np.append(y,1)\n",
        "  else:\n",
        "    y = np.append(y,0)\n",
        "\n",
        "for i in range(len(alpha)): #run for different alpha and lamda and store theta and loss\n",
        "  theta_positive, loss_positive = BGD(alpha[i], lamda[i], bow_logistic, y)\n",
        "  theta_positive_list.append(theta_positive)\n",
        "  loss_positive_list.append(loss_positive)\n",
        "\n",
        "\n",
        "y = np.array([])\n",
        "for i, row in y_training.iteritems():\n",
        "  if (row == \"neutral\"):\n",
        "    y = np.append(y,1)\n",
        "  else:\n",
        "    y = np.append(y,0)\n",
        "\n",
        "for i in range(len(alpha)):\n",
        "  theta_neutral, loss_neutral = BGD(alpha[i], lamda[i], bow_logistic, y)\n",
        "  theta_neutral_list.append(theta_neutral)\n",
        "  loss_neutral_list.append(loss_neutral)\n",
        "\n",
        "\n",
        "y = np.array([])\n",
        "for i, row in y_training.iteritems():\n",
        "  if (row == \"negative\"):\n",
        "    y = np.append(y,1)\n",
        "  else:\n",
        "    y = np.append(y,0)\n",
        "\n",
        "for i in range(len(alpha)):\n",
        "  theta_negative, loss_negative = BGD(alpha[i], lamda[i], bow_logistic, y)\n",
        "  theta_negative_list.append(theta_negative)\n",
        "  loss_negative_list.append(loss_negative)\n",
        "\n",
        "\n",
        "print(theta_positive)\n",
        "print(theta_neutral)\n",
        "print(theta_negative)\n",
        "epochs = np.arange(1000)\n",
        "\n",
        "for i in range (len(loss_positive_list)):\n",
        "\n",
        "  total_loss = np.add(loss_positive_list[i], loss_neutral_list[i], loss_negative_list[i])\n",
        "\n",
        "  plt.plot(epochs, total_loss)\n",
        "  plt.xlabel(\"Epochs\")\n",
        "  plt.ylabel(\"Training Loss\")\n",
        "  t = 'For alpha = ' + str(alpha[i]) + ' and lamda = ' + str(lamda[i])\n",
        "  plt.title(t)\n",
        "  plt.show()\n",
        "\n",
        "\n"
      ]
    },
    {
      "cell_type": "code",
      "execution_count": 41,
      "metadata": {
        "colab": {
          "base_uri": "https://localhost:8080/"
        },
        "id": "xtD8cteibfwR",
        "outputId": "340ff93e-c986-4811-f2b8-65c9b7d791a4"
      },
      "outputs": [
        {
          "name": "stdout",
          "output_type": "stream",
          "text": [
            "Confusion Matrix:  [[239. 301. 924.]\n",
            " [  0.   0.   0.]\n",
            " [  0.   0.   0.]]\n",
            "F1 score:  nan\n",
            "Classification Accuracy:  0.16325136612021857\n"
          ]
        },
        {
          "name": "stderr",
          "output_type": "stream",
          "text": [
            "/usr/local/lib/python3.7/dist-packages/ipykernel_launcher.py:5: RuntimeWarning: overflow encountered in exp\n",
            "  \"\"\"\n",
            "/usr/local/lib/python3.7/dist-packages/ipykernel_launcher.py:48: RuntimeWarning: invalid value encountered in double_scalars\n"
          ]
        }
      ],
      "source": [
        "def Prediction(x, theta_positive, theta_neutral, theta_negative):\n",
        "  results = []\n",
        "  results.append(Sigmoid(x, theta_positive)) # we find probability of each using its respective thetas\n",
        "  results.append(Sigmoid(x, theta_neutral))\n",
        "  results.append(Sigmoid(x, theta_negative))\n",
        "\n",
        "  if (results.index(max(results)) == 1):\n",
        "    return \"neutral\"\n",
        "\n",
        "  if (results.index(max(results)) == 0):\n",
        "    return \"positive\"\n",
        "\n",
        "  if (results.index(max(results)) == 2):\n",
        "    return \"negative\"\n",
        "\n",
        "\n",
        "def Evaluation(y_actual, y_predicted):\n",
        "  confusion_matrix = np.zeros((3,3))\n",
        "\n",
        "  for i in range(len(y_predicted)):\n",
        "    if (y_predicted[i] == \"positive\") and (y_actual[i] == \"positive\"):\n",
        "      confusion_matrix[0][0] += 1 \n",
        "    elif (y_predicted[i] == \"positive\") and (y_actual[i] == \"neutral\"):\n",
        "      confusion_matrix[0][1] += 1 \n",
        "    elif (y_predicted[i] == \"positive\") and (y_actual[i] == \"negative\"):\n",
        "      confusion_matrix[0][2] += 1 \n",
        "\n",
        "    elif (y_predicted[i] == \"neutral\") and (y_actual[i] == \"positive\"):\n",
        "      confusion_matrix[1][0] += 1 \n",
        "    elif (y_predicted[i] == \"neutral\") and (y_actual[i] == \"neutral\"):\n",
        "      confusion_matrix[1][1] += 1 \n",
        "    elif (y_predicted[i] == \"neutral\") and (y_actual[i] == \"negative\"):\n",
        "      confusion_matrix[1][2] += 1 \n",
        "    \n",
        "    elif (y_predicted[i] == \"negative\") and (y_actual[i] == \"positive\"):\n",
        "      confusion_matrix[2][0] += 1 \n",
        "    elif (y_predicted[i] == \"negative\") and (y_actual[i] == \"neutral\"):\n",
        "      confusion_matrix[2][1] += 1 \n",
        "    elif (y_predicted[i] == \"negative\") and (y_actual[i] == \"negative\"):\n",
        "      confusion_matrix[2][2] += 1\n",
        "\n",
        "  precision = []\n",
        "  recall = []\n",
        "  f1 = []\n",
        "  for i in range(3):\n",
        "    row_sum = np.sum(confusion_matrix, axis = 1)\n",
        "    column_sum = np.sum(confusion_matrix, axis = 0)\n",
        "    precision.append(confusion_matrix[i][i] / row_sum[i])\n",
        "    recall.append(confusion_matrix[i][i] / column_sum[i])\n",
        "    f1.append(2*precision[i]*recall[i] / (precision[i] + recall[i]))\n",
        "\n",
        "  f1_s = (f1[0] +f1[1] + f1[2])/3\n",
        "\n",
        "  classification_accuracy = (confusion_matrix[0][0] + confusion_matrix[1][1] + confusion_matrix[2][2]) / y_actual.size\n",
        "\n",
        "  return confusion_matrix, f1_s, classification_accuracy\n",
        "\n",
        "\n",
        "\n",
        "df_test = pd.read_csv('PA4_dataset/test.csv')\n",
        "x_test = df_test['Tweet']\n",
        "y_test = df_test['Sentiment']\n",
        "\n",
        "for i, row in x_test.iteritems(): #lower all words\n",
        "  x_test.at[i] = row.lower()\n",
        "\n",
        "for i, row in x_test.iteritems():\n",
        "    x_test.at[i] = re.sub(\"[^\\w\\d'\\s]\",' ', row) #remove all punctuation except for '\n",
        "\n",
        "\n",
        "bow_test = np.zeros((x_test.size, len(vocabulary))) #create bag of words for test data\n",
        "\n",
        "for i, row in x_test.iteritems():\n",
        "  words = x_test[i].split()\n",
        "  for x in words:\n",
        "    if x in vocabulary:\n",
        "      bow_test[i][vocabulary.index(x)] += 1\n",
        "\n",
        "bow_logistic_test = bow_test  #create bag of words of test data for logistic case so we can add bias term\n",
        "insert_ones = np.ones(bow_logistic_test.shape[0])\n",
        "bow_logistic_test = np.insert(bow_logistic_test, 0, insert_ones, axis=1)\n",
        "\n",
        "y_predicted = []\n",
        "\n",
        "for i in range(bow_test.shape[0]): #get the prediction for each data point\n",
        "  y_predicted.append(Prediction(bow_logistic_test[i], theta_positive_list[4], theta_neutral_list[4], theta_negative_list[4])) \n",
        "\n",
        "confusion_matrix, f1_s, classification_accuracy = Evaluation(y_test, y_predicted)\n",
        "print(\"Confusion Matrix: \", confusion_matrix)\n",
        "print(\"F1 score: \" , f1_s)\n",
        "print(\"Classification Accuracy: \", classification_accuracy)\n"
      ]
    },
    {
      "cell_type": "code",
      "execution_count": 47,
      "metadata": {
        "colab": {
          "base_uri": "https://localhost:8080/"
        },
        "id": "ssjgy1v2pMUH",
        "outputId": "ce6a1c5f-9704-4eb7-ae49-c12615ba8455"
      },
      "outputs": [
        {
          "name": "stdout",
          "output_type": "stream",
          "text": [
            "Confusion Matrix:  [[817  75  32]\n",
            " [127 132  42]\n",
            " [ 35  34 170]]\n",
            "F1 score:  0.6832209547293999\n",
            "Classification Accuracy:  0.764344262295082\n"
          ]
        }
      ],
      "source": [
        "\n",
        "logistic_reg = LogisticRegression(multi_class = 'ovr')\n",
        "y = np.zeros((y_training.size))\n",
        "\n",
        "for i, row in y_training.iteritems(): #assign labels\n",
        "  if (row == \"positive\"):\n",
        "    y[i] = 1\n",
        "  elif (row == \"neutral\"):\n",
        "    y[i] = 0\n",
        "  elif(row == \"negative\"):\n",
        "    y[i] = -1\n",
        "\n",
        "\n",
        "logistic_reg.fit(bow, y)\n",
        "predictions = logistic_reg.predict(bow_test)\n",
        "\n",
        "y = np.zeros((y_test.size))\n",
        "\n",
        "for i, row in y_test.iteritems():\n",
        "  if (row == \"positive\"):\n",
        "    y[i] = 1\n",
        "  elif (row == \"neutral\"):\n",
        "    y[i] = 0\n",
        "  elif(row == \"negative\"):\n",
        "    y[i] = -1\n",
        "\n",
        "confusion_matrix = metrics.confusion_matrix(y, predictions)\n",
        "f1_score = metrics.f1_score(y, predictions, average = 'macro')\n",
        "classification_accuracy = metrics.accuracy_score(y, predictions)\n",
        "\n",
        "print(\"Confusion Matrix: \", confusion_matrix)\n",
        "print(\"F1 score: \", f1_score)\n",
        "print(\"Classification Accuracy: \", classification_accuracy)"
      ]
    },
    {
      "cell_type": "markdown",
      "metadata": {},
      "source": [
        "## Naive Bayes"
      ]
    },
    {
      "cell_type": "code",
      "execution_count": 43,
      "metadata": {
        "colab": {
          "base_uri": "https://localhost:8080/"
        },
        "id": "tdjo8xtq60_t",
        "outputId": "5a46d1db-c9f3-4a0b-a56a-989ee279ffa7"
      },
      "outputs": [
        {
          "name": "stdout",
          "output_type": "stream",
          "text": [
            "Confusion Matrix:  [[141.  35.  26.]\n",
            " [ 22. 104.  49.]\n",
            " [ 76. 162. 849.]]\n",
            "F1 score:  0.6402622046663851\n",
            "Classification Accuracy:  0.7472677595628415\n"
          ]
        }
      ],
      "source": [
        "\n",
        "#first is positive, second is neutral and third is negative\n",
        "prior_probability = [0,0,0]\n",
        "positive_indices = []\n",
        "neutral_indices = []\n",
        "negative_indices = []\n",
        "for i,row in y_training.iteritems(): #count the number of docs in each class and the indices where each class docs are found in the training set\n",
        "  if (row == \"positive\"): \n",
        "    prior_probability[0] += 1\n",
        "    positive_indices.append(i)\n",
        "  elif (row == \"neutral\"):\n",
        "    prior_probability[1] += 1\n",
        "    neutral_indices.append(i)\n",
        "  elif(row == \"negative\"):\n",
        "    prior_probability[2] += 1\n",
        "    negative_indices.append(i)\n",
        "\n",
        "prior_probability[0] = prior_probability[0]/y_training.size\n",
        "prior_probability[1] = prior_probability[1]/y_training.size\n",
        "prior_probability[2] = prior_probability[2]/y_training.size\n",
        "\n",
        "\n",
        "likelihood = np.zeros((3,len(vocabulary))) \n",
        "\n",
        "for i in range(len(vocabulary)): #calculate likelihood of each word for each class\n",
        "  for j in positive_indices:\n",
        "    likelihood[0][i] = likelihood[0][i] + bow[j][i]\n",
        "\n",
        "  for j in neutral_indices:\n",
        "    likelihood[1][i] = likelihood[1][i] + bow[j][i]\n",
        "\n",
        "  for j in negative_indices:\n",
        "    likelihood[2][i] = likelihood[2][i] + bow[j][i]\n",
        "\n",
        "row_sum = np.sum(likelihood, axis = 1)\n",
        "likelihood[0] = (likelihood[0] + 1) / (row_sum[0] + len(vocabulary))\n",
        "likelihood[1] = (likelihood[1] + 1) / (row_sum[1] + len(vocabulary))\n",
        "likelihood[2] = (likelihood[2] + 1) / (row_sum[2] + len(vocabulary))\n",
        "\n",
        "\n",
        "\n",
        "y_predicted = []\n",
        "\n",
        "for i,row in x_test.iteritems(): #for each test point we calculate its probability of belonging to each class then take the class with highest probability\n",
        "  sum = [math.log(prior_probability[0]), math.log(prior_probability[1]), math.log(prior_probability[2])]\n",
        "  words = x_test[i].split()\n",
        "  for x in words:\n",
        "    if x in vocabulary:\n",
        "      j = vocabulary.index(x)\n",
        "      sum[0] += math.log(likelihood[0][j])\n",
        "      sum[1] += math.log(likelihood[1][j])\n",
        "      sum[2] += math.log(likelihood[2][j])\n",
        "\n",
        "  if (sum.index(max(sum)) == 0):\n",
        "    y_predicted.append(\"positive\") \n",
        "  elif (sum.index(max(sum)) == 1):\n",
        "    y_predicted.append(\"neutral\") \n",
        "  elif (sum.index(max(sum)) == 2):\n",
        "    y_predicted.append(\"negative\") \n",
        "\n",
        "\n",
        "confusion_matrix, f1_score, classification_accuracy = Evaluation(y_test, y_predicted)\n",
        "print(\"Confusion Matrix: \", confusion_matrix)\n",
        "print(\"F1 score: \" , f1_score)\n",
        "print(\"Classification Accuracy: \", classification_accuracy)\n"
      ]
    },
    {
      "cell_type": "code",
      "execution_count": 53,
      "metadata": {
        "colab": {
          "base_uri": "https://localhost:8080/"
        },
        "id": "CLnPFIyn2Mc_",
        "outputId": "eb5c9d40-347d-4193-bb4b-19fe9acf80b2"
      },
      "outputs": [
        {
          "name": "stdout",
          "output_type": "stream",
          "text": [
            "Confusion Matrix:  [[849  49  26]\n",
            " [162 104  35]\n",
            " [ 76  22 141]]\n",
            "F1 score:  0.640262204666385\n",
            "Classification Accuracy:  0.7472677595628415\n"
          ]
        }
      ],
      "source": [
        "\n",
        "NB_classifier = MultinomialNB()\n",
        "\n",
        "y = np.zeros((y_training.size))\n",
        "\n",
        "for i, row in y_training.iteritems():\n",
        "  if (row == \"positive\"):\n",
        "    y[i] = 1\n",
        "  elif (row == \"neutral\"):\n",
        "    y[i] = 0\n",
        "  elif(row == \"negative\"):\n",
        "    y[i] = -1\n",
        "\n",
        "\n",
        "NB_classifier.fit(bow, y)\n",
        "predictions = NB_classifier.predict(bow_test)\n",
        "\n",
        "\n",
        "y = np.zeros((y_test.size))\n",
        "\n",
        "for i, row in y_test.iteritems():\n",
        "  if (row == \"positive\"):\n",
        "    y[i] = 1\n",
        "  elif (row == \"neutral\"):\n",
        "    y[i] = 0\n",
        "  elif(row == \"negative\"):\n",
        "    y[i] = -1\n",
        "\n",
        "\n",
        "confusion_matrix = metrics.confusion_matrix(y, predictions)\n",
        "f1_score = metrics.f1_score(y, predictions, average = 'macro')\n",
        "classification_accuracy = metrics.accuracy_score(y, predictions)\n",
        "\n",
        "print(\"Confusion Matrix: \", confusion_matrix)\n",
        "print(\"F1 score: \", f1_score)\n",
        "print(\"Classification Accuracy: \", classification_accuracy)\n"
      ]
    },
    {
      "cell_type": "markdown",
      "metadata": {
        "id": "GDvGVp9YPRMP"
      },
      "source": [
        "## Comparison of Results:\n",
        "We can see that the f1 score and classification accuracy for the logistic regression case are almost similar to the ones for the naive bayes algorithm. This is because, as we learned in class, both of them perform similarly under the similar conditions, which is conditional independence between the features of the data. However, logistic regression performs a little better because it does make a naive assumption, like the naive bayes classifier and so is more accurate"
      ]
    }
  ],
  "metadata": {
    "colab": {
      "collapsed_sections": [],
      "name": "22100017_Assignment 4.ipynb",
      "provenance": []
    },
    "kernelspec": {
      "display_name": "Python 3",
      "name": "python3"
    },
    "language_info": {
      "name": "python"
    }
  },
  "nbformat": 4,
  "nbformat_minor": 0
}
